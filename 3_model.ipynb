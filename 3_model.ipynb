{
 "cells": [
  {
   "attachments": {},
   "cell_type": "markdown",
   "metadata": {},
   "source": [
    "# CarMax Analytics Showcase\n",
    "- Competition: https://analyticsshowcase.carmax.com\n",
    "- Data: https://github.com/kmx-analytics-showcase/Winter-2023\n",
    "\n",
    "## Recommendation System"
   ]
  },
  {
   "cell_type": "code",
   "execution_count": 1,
   "metadata": {},
   "outputs": [],
   "source": [
    "import numpy as np\n",
    "import pandas as pd"
   ]
  },
  {
   "attachments": {},
   "cell_type": "markdown",
   "metadata": {},
   "source": [
    "## Data Load"
   ]
  },
  {
   "cell_type": "code",
   "execution_count": 6,
   "metadata": {},
   "outputs": [
    {
     "data": {
      "text/plain": [
       "(200000, 32)"
      ]
     },
     "execution_count": 6,
     "metadata": {},
     "output_type": "execute_result"
    }
   ],
   "source": [
    "# load clean data\n",
    "file = 'data/cleaned_data.pkl'\n",
    "df = pd.read_pickle(file)\n",
    "df.shape"
   ]
  },
  {
   "attachments": {},
   "cell_type": "markdown",
   "metadata": {},
   "source": [
    "## Modeling Thoughts\n",
    "- too many makes/models/etc to be a classification problem\n",
    "\n",
    "- need fewer features and targets\n",
    "\t- profile each model to come up with standard types (principal component analysis)"
   ]
  },
  {
   "cell_type": "code",
   "execution_count": 7,
   "metadata": {},
   "outputs": [
    {
     "data": {
      "text/plain": [
       "price                                   13\n",
       "price_appraisal                          9\n",
       "online_appraisal_flag                    2\n",
       "market                                  16\n",
       "model_year                              24\n",
       "mileage                                 21\n",
       "make                                    37\n",
       "model                                  575\n",
       "premium_trim                             2\n",
       "body                                     6\n",
       "color                                   16\n",
       "engine_disp                             49\n",
       "cylinders                               10\n",
       "mpg                                    308\n",
       "horsepower                             297\n",
       "fuel_capacity                           37\n",
       "model_year_appraisal                    32\n",
       "mileage_appraisal                       21\n",
       "make_appraisal                          38\n",
       "model_appraisal                        675\n",
       "premium_trim_appraisal                   2\n",
       "body_appraisal                           8\n",
       "color_appraisal                         16\n",
       "engine_disp_appraisal                   56\n",
       "cylinders_appraisal                      6\n",
       "mpg_appraisal                          363\n",
       "horsepower_appraisal                   339\n",
       "fuel_capacity_appraisal                 36\n",
       "imputed_flag_premium_trim                2\n",
       "imputed_flag_premium_trim_appraisal      2\n",
       "imputed_flag_model_appraisal             2\n",
       "imputed_flag_body                        2\n",
       "dtype: int64"
      ]
     },
     "execution_count": 7,
     "metadata": {},
     "output_type": "execute_result"
    }
   ],
   "source": [
    "df.nunique()"
   ]
  },
  {
   "attachments": {},
   "cell_type": "markdown",
   "metadata": {},
   "source": [
    "## Feature Engineering\n",
    "- We're starting with 13 features on a car\n",
    "    - objective\n",
    "        - price\n",
    "    - condition\n",
    "        - model_year\n",
    "        - mileage\n",
    "    - taste\n",
    "        - make\n",
    "        - model\n",
    "        - premium_trim\n",
    "        - body\n",
    "        - color\n",
    "    - kinetic features\n",
    "        - engine_disp\n",
    "        - cylinders\n",
    "        - mpg\n",
    "        - horsepower\n",
    "        - fuel_capacity"
   ]
  },
  {
   "attachments": {},
   "cell_type": "markdown",
   "metadata": {},
   "source": [
    "## Price"
   ]
  },
  {
   "cell_type": "code",
   "execution_count": null,
   "metadata": {},
   "outputs": [],
   "source": []
  },
  {
   "attachments": {},
   "cell_type": "markdown",
   "metadata": {},
   "source": [
    "## Model Year"
   ]
  },
  {
   "cell_type": "code",
   "execution_count": null,
   "metadata": {},
   "outputs": [],
   "source": []
  },
  {
   "attachments": {},
   "cell_type": "markdown",
   "metadata": {},
   "source": [
    "## Mileage"
   ]
  },
  {
   "cell_type": "code",
   "execution_count": null,
   "metadata": {},
   "outputs": [],
   "source": []
  },
  {
   "attachments": {},
   "cell_type": "markdown",
   "metadata": {},
   "source": [
    "## Make"
   ]
  },
  {
   "cell_type": "code",
   "execution_count": null,
   "metadata": {},
   "outputs": [],
   "source": []
  },
  {
   "attachments": {},
   "cell_type": "markdown",
   "metadata": {},
   "source": [
    "## Model"
   ]
  },
  {
   "cell_type": "code",
   "execution_count": null,
   "metadata": {},
   "outputs": [],
   "source": []
  },
  {
   "attachments": {},
   "cell_type": "markdown",
   "metadata": {},
   "source": [
    "## Premium Trim"
   ]
  },
  {
   "cell_type": "code",
   "execution_count": null,
   "metadata": {},
   "outputs": [],
   "source": []
  },
  {
   "attachments": {},
   "cell_type": "markdown",
   "metadata": {},
   "source": [
    "## Body"
   ]
  },
  {
   "cell_type": "code",
   "execution_count": null,
   "metadata": {},
   "outputs": [],
   "source": []
  },
  {
   "attachments": {},
   "cell_type": "markdown",
   "metadata": {},
   "source": [
    "## Color"
   ]
  },
  {
   "cell_type": "code",
   "execution_count": null,
   "metadata": {},
   "outputs": [],
   "source": []
  },
  {
   "attachments": {},
   "cell_type": "markdown",
   "metadata": {},
   "source": [
    "## Kinetics\n",
    "- Body x Kinetics"
   ]
  },
  {
   "cell_type": "code",
   "execution_count": null,
   "metadata": {},
   "outputs": [],
   "source": []
  }
 ],
 "metadata": {
  "kernelspec": {
   "display_name": "Python 3.9.13 ('base')",
   "language": "python",
   "name": "python3"
  },
  "language_info": {
   "codemirror_mode": {
    "name": "ipython",
    "version": 3
   },
   "file_extension": ".py",
   "mimetype": "text/x-python",
   "name": "python",
   "nbconvert_exporter": "python",
   "pygments_lexer": "ipython3",
   "version": "3.9.13 (main, Aug 25 2022, 18:29:29) \n[Clang 12.0.0 ]"
  },
  "orig_nbformat": 4,
  "vscode": {
   "interpreter": {
    "hash": "9ce51b511e31678062ea377e4f294f92e7c7692784d9643ac534d9eb5246e9c5"
   }
  }
 },
 "nbformat": 4,
 "nbformat_minor": 2
}
